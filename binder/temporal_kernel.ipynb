{
 "cells": [
  {
   "cell_type": "markdown",
   "metadata": {},
   "source": [
    "This notebook is the live version of the code from the following page:\n",
    "<https://rtavenar.github.io/hdr/parts/01/temporal_kernel.html>.\n",
    "\n",
    "This code is part of the Jupyter book version of my Habilitation thesis."
   ]
  },
  {
   "cell_type": "code",
   "execution_count": 1,
   "metadata": {},
   "outputs": [],
   "source": [
    "%config InlineBackend.figure_format = 'svg'\n",
    "import numpy\n",
    "from scipy.spatial.distance import cdist\n",
    "from ipywidgets import interact_manual, interactive, FloatLogSlider\n",
    "from IPython.display import display\n",
    "import matplotlib.pyplot as plt\n",
    "\n",
    "plt.ion()\n",
    "\n",
    "# Define time series\n",
    "s_x = numpy.array(\n",
    "    [-0.790, -0.765, -0.734, -0.700, -0.668, -0.639, -0.612, -0.587, -0.564,\n",
    "     -0.544, -0.529, -0.518, -0.509, -0.502, -0.494, -0.488, -0.482, -0.475,\n",
    "     -0.472, -0.470, -0.465, -0.464, -0.461, -0.458, -0.459, -0.460, -0.459,\n",
    "     -0.458, -0.448, -0.431, -0.408, -0.375, -0.333, -0.277, -0.196, -0.090,\n",
    "     0.047, 0.220, 0.426, 0.671, 0.962, 1.300, 1.683, 2.096, 2.510, 2.895,\n",
    "     3.219, 3.463, 3.621, 3.700, 3.713, 3.677, 3.606, 3.510, 3.400, 3.280,\n",
    "     3.158, 3.038, 2.919, 2.801, 2.676, 2.538, 2.382, 2.206, 2.016, 1.821,\n",
    "     1.627, 1.439, 1.260, 1.085, 0.917, 0.758, 0.608, 0.476, 0.361, 0.259,\n",
    "     0.173, 0.096, 0.027, -0.032, -0.087, -0.137, -0.179, -0.221, -0.260,\n",
    "     -0.293, -0.328, -0.359, -0.385, -0.413, -0.437, -0.458, -0.480, -0.498,\n",
    "     -0.512, -0.526, -0.536, -0.544, -0.552, -0.556, -0.561, -0.565, -0.568,\n",
    "     -0.570, -0.570, -0.566, -0.560, -0.549, -0.532, -0.510, -0.480, -0.443,\n",
    "     -0.402, -0.357, -0.308, -0.256, -0.200, -0.139, -0.073, -0.003, 0.066,\n",
    "     0.131, 0.186, 0.229, 0.259, 0.276, 0.280, 0.272, 0.256, 0.234, 0.209,\n",
    "     0.186, 0.162, 0.139, 0.112, 0.081, 0.046, 0.008, -0.032, -0.071, -0.110,\n",
    "     -0.147, -0.180, -0.210, -0.235, -0.256, -0.275, -0.292, -0.307, -0.320,\n",
    "     -0.332, -0.344, -0.355, -0.363, -0.367, -0.364, -0.351, -0.330, -0.299,\n",
    "     -0.260, -0.217, -0.172, -0.128, -0.091, -0.060, -0.036, -0.022, -0.016,\n",
    "     -0.020, -0.037, -0.065, -0.104, -0.151, -0.201, -0.253, -0.302, -0.347,\n",
    "     -0.388, -0.426, -0.460, -0.491, -0.517, -0.539, -0.558, -0.575, -0.588,\n",
    "     -0.600, -0.606, -0.607, -0.604, -0.598, -0.589, -0.577, -0.558, -0.531,\n",
    "     -0.496, -0.454, -0.410, -0.364, -0.318, -0.276, -0.237, -0.203, -0.176,\n",
    "     -0.157, -0.145, -0.142, -0.145, -0.154, -0.168, -0.185, -0.206, -0.230,\n",
    "     -0.256, -0.286, -0.318, -0.351, -0.383, -0.414, -0.442, -0.467, -0.489,\n",
    "     -0.508, -0.523, -0.535, -0.544, -0.552, -0.557, -0.560, -0.560, -0.557,\n",
    "     -0.551, -0.542, -0.531, -0.519, -0.507, -0.494, -0.484, -0.476, -0.469,\n",
    "     -0.463, -0.456, -0.449, -0.442, -0.435, -0.431, -0.429, -0.430, -0.435,\n",
    "     -0.442, -0.452, -0.465, -0.479, -0.493, -0.506, -0.517, -0.526, -0.535,\n",
    "     -0.548, -0.567, -0.592, -0.622, -0.655, -0.690, -0.728, -0.764, -0.795,\n",
    "     -0.815, -0.823, -0.821])\n",
    "\n",
    "s_y1 = numpy.concatenate((s_x, s_x)).reshape((-1, 1))\n",
    "s_y2 = numpy.concatenate((s_x, s_x[::-1])).reshape((-1, 1))\n",
    "\n",
    "# Figure details\n",
    "left, bottom = 0.01, 0.1\n",
    "w_ts = h_ts = 0.2\n",
    "left_h = left + w_ts + 0.02\n",
    "width = height = 0.65\n",
    "bottom_h = bottom + height + 0.02\n",
    "\n",
    "rect_s_y = [left, bottom, w_ts, height]\n",
    "rect_gram = [left_h, bottom, width, height]\n",
    "rect_s_x = [left_h, bottom_h, width, h_ts]"
   ]
  },
  {
   "cell_type": "code",
   "execution_count": 2,
   "metadata": {},
   "outputs": [
    {
     "data": {
      "application/vnd.jupyter.widget-view+json": {
       "model_id": "15d81a0c24ca4230a30da8ff9e0553e9",
       "version_major": 2,
       "version_minor": 0
      },
      "text/plain": [
       "interactive(children=(FloatLogSlider(value=100.0, description='$\\\\gamma_t$', step=1.0), Output()), _dom_classe…"
      ]
     },
     "metadata": {},
     "output_type": "display_data"
    }
   ],
   "source": [
    "def g(x, ratio):\n",
    "    sz = x.shape[0]\n",
    "    return numpy.hstack(\n",
    "        (\n",
    "            x,\n",
    "            ratio * numpy.linspace(0., 1., sz).reshape((-1, 1))\n",
    "        )\n",
    "    )\n",
    "\n",
    "def plot_kernel_matrix(gamma_t):\n",
    "    gamma_f = 10.\n",
    "    ratio = numpy.sqrt(gamma_t / gamma_f)\n",
    "\n",
    "    # Build augmented representations ($g$ function)\n",
    "    s_y1_t = g(s_y1, ratio)\n",
    "    s_y2_t = g(s_y2, ratio)\n",
    "\n",
    "    # Plotting stuff\n",
    "    plt.figure(figsize=(5, 5))\n",
    "    ax_gram = plt.axes(rect_gram)\n",
    "    ax_s_x = plt.axes(rect_s_x)\n",
    "    ax_s_y = plt.axes(rect_s_y)\n",
    "    ax_gram.axis(\"off\")\n",
    "    ax_s_x.axis(\"off\")\n",
    "    ax_s_x.set_xlim((0, s_y2.shape[0] - 1))\n",
    "    ax_s_y.axis(\"off\")\n",
    "    ax_s_y.set_ylim((0, s_y1.shape[0] - 1))\n",
    "\n",
    "    # Show kernel matrix and series on the same plot\n",
    "    gram = numpy.exp(-gamma_f * cdist(s_y1_t, s_y2_t, \"sqeuclidean\"))\n",
    "    ax_gram.imshow(gram)\n",
    "\n",
    "    ax_s_x.plot(numpy.arange(s_y2.shape[0]), s_y2,\n",
    "                \"b-\", linewidth=3.)\n",
    "\n",
    "    ax_s_y.plot(- s_y1, numpy.arange(s_y1.shape[0])[::-1],\n",
    "                \"b-\", linewidth=3.)\n",
    "\n",
    "gamma_slider = FloatLogSlider(value=100., base=10, min=0, max=4,\n",
    "                              step=1., description='$\\gamma_t$')\n",
    "interactive_plot = interactive(plot_kernel_matrix, gamma_t=gamma_slider)\n",
    "display(interactive_plot)"
   ]
  }
 ],
 "metadata": {
  "kernelspec": {
   "display_name": "Python 3",
   "language": "python",
   "name": "python3"
  },
  "language_info": {
   "codemirror_mode": {
    "name": "ipython",
    "version": 3
   },
   "file_extension": ".py",
   "mimetype": "text/x-python",
   "name": "python",
   "nbconvert_exporter": "python",
   "pygments_lexer": "ipython3",
   "version": "3.7.4"
  }
 },
 "nbformat": 4,
 "nbformat_minor": 2
}
